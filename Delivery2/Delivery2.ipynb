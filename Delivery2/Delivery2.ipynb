{
 "cells": [
  {
   "cell_type": "markdown",
   "metadata": {},
   "source": [
    "## General python Imports"
   ]
  },
  {
   "cell_type": "code",
   "execution_count": 1,
   "metadata": {},
   "outputs": [],
   "source": [
    "import pandas as pd\n",
    "import seaborn as sns\n",
    "import numpy as np\n",
    "import matplotlib\n",
    "import matplotlib.pyplot as plt\n",
    "from sklearn import preprocessing\n",
    "from sklearn.model_selection import train_test_split\n",
    "from sklearn.preprocessing import LabelEncoder,OneHotEncoder\n"
   ]
  },
  {
   "cell_type": "markdown",
   "metadata": {},
   "source": [
    "## Importing libraries for Neural Network"
   ]
  },
  {
   "cell_type": "code",
   "execution_count": 2,
   "metadata": {},
   "outputs": [],
   "source": [
    "from keras.models import Sequential\n",
    "from keras.layers import Dense, Dropout\n",
    "from keras.utils import to_categorical\n",
    "from keras.datasets import mnist\n",
    "from keras.utils.vis_utils import model_to_dot\n",
    "from IPython.display import SVG\n",
    "from sklearn.model_selection import train_test_split\n",
    "from sklearn import metrics\n",
    "from keras.models import load_model\n",
    "from keras.layers.core import Dense, Activation\n",
    "from keras.callbacks import EarlyStopping\n",
    "from keras.callbacks import ModelCheckpoint\n",
    "from keras.utils import to_categorical\n",
    "from sklearn.model_selection import train_test_split\n",
    "from sklearn.preprocessing import MinMaxScaler\n",
    "from sklearn.metrics import accuracy_score\n",
    "from keras.models import Sequential\n",
    "from keras.layers import Dense\n",
    "from keras.wrappers.scikit_learn import KerasClassifier"
   ]
  },
  {
   "cell_type": "markdown",
   "metadata": {},
   "source": [
    "## Start of all the functions used "
   ]
  },
  {
   "cell_type": "code",
   "execution_count": 3,
   "metadata": {},
   "outputs": [],
   "source": [
    "# Function to check how many categories each column has with the OBJECT datatype\n",
    "def checkUnique(dfCheck):\n",
    "    #looping through the columns of each dataset\n",
    "    for column in dfCheck.columns:\n",
    "        #Checking if the column is object\n",
    "        if (dfCheck[column].dtypes == 'object'):\n",
    "            #saving the count of each unique column\n",
    "            categoryCount = len(dfCheck[column].unique())\n",
    "            #checking the distribution for the given column\n",
    "            distNumber = dfCheck[column].value_counts().sort_values(ascending=False)\n",
    "            print(f'Column: {column} has {categoryCount} unique categories')\n",
    "            print(f'Distribution for {column}')\n",
    "            print(distNumber)\n",
    "            print()\n",
    "            "
   ]
  },
  {
   "cell_type": "code",
   "execution_count": 4,
   "metadata": {},
   "outputs": [],
   "source": [
    "# Function used to created new column names for the new categories\n",
    "def createLabel(stringName, dfCheck):\n",
    "    #creating the new variable name for the column Name\n",
    "    newCategory= stringName\n",
    "    newCat = newCategory+'_'\n",
    "    #sorting the categories of the df\n",
    "    dfSorted = sorted(dfCheck[stringName].unique())\n",
    "    #creating a unique category name for the column Name\n",
    "    categoryName=[newCat + x for x in dfSorted]\n",
    "    return categoryName"
   ]
  },
  {
   "cell_type": "code",
   "execution_count": 5,
   "metadata": {},
   "outputs": [],
   "source": [
    "# Function used to create a new df with the enconded df\n",
    "def createNewCategorical(dfEnconded, colunmNames):\n",
    "    #using sklearn OneHOTEncoder to trasform to a numeric array\n",
    "    hotEncoder = OneHotEncoder(categories='auto')\n",
    "    newDfEnconded =  hotEncoder.fit_transform(dfEnconded)\n",
    "    #creating the new dataset with the new categorical columns\n",
    "    finalDF = pd.DataFrame(newDfEnconded.toarray(),columns=colunmNames)\n",
    "    return finalDF"
   ]
  },
  {
   "cell_type": "code",
   "execution_count": 6,
   "metadata": {},
   "outputs": [],
   "source": [
    "#function to check which new catergory is missing on the test dataset\n",
    "def checkMissingColumn(dfCheckTrain, dfCheckTest, stringCheck, dfName):\n",
    "    #adding the train and test data set to a list to check for the missing columns\n",
    "    trainList = dfCheckTrain[stringCheck].tolist()\n",
    "    testList = dfCheckTest[stringCheck].tolist()\n",
    "    #finding the values missing on the test dataset\n",
    "    missingList = list(set(trainList) - set(testList))\n",
    "    checkCategory = stringCheck+'_'\n",
    "    #finding the missing columns\n",
    "    missingColumns=[checkCategory + x for x in missingList]\n",
    "    print(f'Columns missing on {dfName} data sets are:')\n",
    "    print(missingColumns)\n",
    "    print()\n",
    "    return missingColumns"
   ]
  },
  {
   "cell_type": "code",
   "execution_count": 7,
   "metadata": {},
   "outputs": [],
   "source": [
    "#function to add the missing column to a df\n",
    "def addMissingColumn(dfAdd, columnList):\n",
    "    #loop to add the missing column and put 0 on them\n",
    "    newDfTest = dfAdd\n",
    "    for columnName in columnList:\n",
    "        newDfTest[columnName] = 0\n",
    "\n",
    "    return newDfTest"
   ]
  },
  {
   "cell_type": "code",
   "execution_count": 8,
   "metadata": {},
   "outputs": [],
   "source": [
    "#Function to join the categorical and general df for train and test dataset.\n",
    "#It will also replace the final label column with a numerical value\n",
    "def getFinalDF(dfCheckOriginal, dfCheckCategorical):\n",
    "    #joining the two datasets and droping the old object columns\n",
    "    dfCheckOriginal = dfCheckOriginal.reset_index(drop=True)\n",
    "    FinalDF=dfCheckOriginal.join(dfCheckCategorical)\n",
    "    FinalDF.drop('flag', axis=1, inplace=True)\n",
    "    FinalDF.drop('protocol_type', axis=1, inplace=True)\n",
    "    FinalDF.drop('service', axis=1, inplace=True)\n",
    "    print(FinalDF.shape)\n",
    "    return FinalDF"
   ]
  },
  {
   "cell_type": "code",
   "execution_count": 9,
   "metadata": {},
   "outputs": [],
   "source": [
    "#Function to create our Neural Network Model with 3 Hidden layers\n",
    "def createModel():\n",
    "    model = Sequential()\n",
    "    #118 is output dimension\n",
    "    model.add(Dense(118,input_dim =118,activation = 'relu',kernel_initializer='random_uniform'))\n",
    "    #in next layer we do not specify the input_dim as the model is sequential so output of previous layer is input to next layer\n",
    "    model.add(Dense(1,activation='sigmoid',kernel_initializer='random_uniform'))\n",
    "    #23 type of clases: 'normal.', 'buffer_overflow.', 'loadmodule.', 'perl.', 'neptune.','smurf.', 'guess_passwd.', 'pod.', 'teardrop.', 'portsweep.',\n",
    "       #'ipsweep.', 'land.', 'ftp_write.', 'back.', 'imap.', 'satan.',\n",
    "       #'phf.', 'nmap.', 'multihop.', 'warezmaster.', 'warezclient.',\n",
    "       #'spy.', 'rootkit.'\n",
    "    model.add(Dense(23,activation='softmax'))\n",
    "    #monitor = EarlyStopping(monitor='val_loss', min_delta=1e-3, patience=3, verbose=1, mode='auto')\n",
    "    #loss is categorical_crossentropy which specifies that we have multiple classes\n",
    "    model.compile(loss ='categorical_crossentropy',optimizer = 'adam',metrics = ['accuracy'])\n",
    "    return model"
   ]
  },
  {
   "cell_type": "code",
   "execution_count": 10,
   "metadata": {},
   "outputs": [],
   "source": [
    "# Function to create our second Neural Network with 5 Hidden layers\n",
    "def createModel2():\n",
    "    model = Sequential()\n",
    "    #118 is output dimension\n",
    "    model.add(Dense(118,input_dim =118,activation = 'relu', kernel_initializer='random_uniform'))\n",
    "    #second layer we do not specify the input_dim as the model is sequential so output of previous layer is input to next layer\n",
    "    model.add(Dense(60,activation = 'relu', kernel_initializer='random_uniform'))\n",
    "    model.add(Dense(30,activation = 'relu', kernel_initializer='random_uniform'))\n",
    "    #adding another hidden layer\n",
    "    model.add(Dense(1,activation='sigmoid',kernel_initializer='random_uniform'))\n",
    "    #23 type of clases: 'normal.', 'buffer_overflow.', 'loadmodule.', 'perl.', 'neptune.','smurf.', 'guess_passwd.', 'pod.', 'teardrop.', 'portsweep.',\n",
    "       #'ipsweep.', 'land.', 'ftp_write.', 'back.', 'imap.', 'satan.',\n",
    "       #'phf.', 'nmap.', 'multihop.', 'warezmaster.', 'warezclient.',\n",
    "       #'spy.', 'rootkit.'\n",
    "    model.add(Dense(23,activation='softmax'))\n",
    "    #loss is categorical_crossentropy which specifies that we have multiple classes\n",
    "    model.compile(loss ='categorical_crossentropy',optimizer = 'adam',metrics = ['accuracy'])\n",
    "    monitor = EarlyStopping(monitor='val_loss', min_delta=1e-3, patience=3, verbose=1, mode='auto')\n",
    "    return model"
   ]
  },
  {
   "cell_type": "code",
   "execution_count": 11,
   "metadata": {},
   "outputs": [],
   "source": [
    "#Function to create a scaled dataset\n",
    "def scaleData(dfCheck):\n",
    "    # setting the scale and returning the scaled df\n",
    "    sc = preprocessing.StandardScaler().fit(dfCheck)\n",
    "    dfScaled = sc.transform(dfCheck) \n",
    "    return dfScaled"
   ]
  },
  {
   "cell_type": "code",
   "execution_count": 12,
   "metadata": {},
   "outputs": [],
   "source": [
    "#function used to create quick graphs for a given column Name\n",
    "def plotGraph(columnName):\n",
    "    plt.title(columnName)\n",
    "    df[columnName].value_counts().plot(kind=\"bar\")"
   ]
  },
  {
   "cell_type": "markdown",
   "metadata": {},
   "source": [
    "## Names of the headers"
   ]
  },
  {
   "cell_type": "code",
   "execution_count": 13,
   "metadata": {},
   "outputs": [],
   "source": [
    "labelNames = [\"duration\",\"protocol_type\",\"service\",\"flag\",\"src_bytes\",\n",
    "    \"dst_bytes\",\"land\",\"wrong_fragment\",\"urgent\",\"hot\",\"num_failed_logins\",\n",
    "    \"logged_in\",\"num_compromised\",\"root_shell\",\"su_attempted\",\"num_root\",\n",
    "    \"num_file_creations\",\"num_shells\",\"num_access_files\",\"num_outbound_cmds\",\n",
    "    \"is_host_login\",\"is_guest_login\",\"count\",\"srv_count\",\"serror_rate\",\n",
    "    \"srv_serror_rate\",\"rerror_rate\",\"srv_rerror_rate\",\"same_srv_rate\",\n",
    "    \"diff_srv_rate\",\"srv_diff_host_rate\",\"dst_host_count\",\"dst_host_srv_count\",\n",
    "    \"dst_host_same_srv_rate\",\"dst_host_diff_srv_rate\",\"dst_host_same_src_port_rate\",\n",
    "    \"dst_host_srv_diff_host_rate\",\"dst_host_serror_rate\",\"dst_host_srv_serror_rate\",\n",
    "    \"dst_host_rerror_rate\",\"dst_host_srv_rerror_rate\",\"label\"]"
   ]
  },
  {
   "cell_type": "markdown",
   "metadata": {},
   "source": [
    "## Reading the csv dataset"
   ]
  },
  {
   "cell_type": "code",
   "execution_count": 14,
   "metadata": {},
   "outputs": [],
   "source": [
    "df = pd.read_csv('kddcup.data_10_percent_corrected',header=None, names = labelNames)"
   ]
  },
  {
   "cell_type": "code",
   "execution_count": 15,
   "metadata": {},
   "outputs": [
    {
     "data": {
      "text/plain": [
       "(494021, 42)"
      ]
     },
     "execution_count": 15,
     "metadata": {},
     "output_type": "execute_result"
    }
   ],
   "source": [
    "df.shape"
   ]
  },
  {
   "cell_type": "markdown",
   "metadata": {},
   "source": [
    "## Ploting a heat map to check for NULL's"
   ]
  },
  {
   "cell_type": "code",
   "execution_count": 16,
   "metadata": {},
   "outputs": [
    {
     "data": {
      "text/plain": [
       "<AxesSubplot:>"
      ]
     },
     "execution_count": 16,
     "metadata": {},
     "output_type": "execute_result"
    },
    {
     "data": {
      "image/png": "[encoded data removed]",
      "text/plain": [
       "<Figure size 720x432 with 2 Axes>"
      ]
     },
     "metadata": {
      "needs_background": "light"
     },
     "output_type": "display_data"
    }
   ],
   "source": [
    "plt.subplots(figsize=(10,6))\n",
    "sns.heatmap(df.isnull())"
   ]
  },
  {
   "cell_type": "markdown",
   "metadata": {},
   "source": [
    "## Log-scale distribution of the dataset"
   ]
  },
  {
   "cell_type": "code",
   "execution_count": 17,
   "metadata": {},
   "outputs": [
    {
     "data": {
      "text/plain": [
       "<Figure size 432x288 with 0 Axes>"
      ]
     },
     "metadata": {},
     "output_type": "display_data"
    },
    {
     "data": {
      "image/png": "[encoded data removed]",
      "text/plain": [
       "<Figure size 864x576 with 1 Axes>"
      ]
     },
     "metadata": {
      "needs_background": "light"
     },
     "output_type": "display_data"
    }
   ],
   "source": [
    "#log-scaled distribution\n",
    "plt.clf()\n",
    "plt.figure(figsize=(12,8))\n",
    "params = {'axes.titlesize':'16','xtick.labelsize':'14','ytick.labelsize':'14'}\n",
    "matplotlib.rcParams.update(params)\n",
    "plt.title('Attacks Distribution')\n",
    "df['label'].value_counts().apply(np.log).plot(kind='bar')\n",
    "plt.show()"
   ]
  },
  {
   "cell_type": "markdown",
   "metadata": {},
   "source": [
    "## Correlation matrix of the dataset"
   ]
  },
  {
   "cell_type": "code",
   "execution_count": 18,
   "metadata": {},
   "outputs": [
    {
     "data": {
      "text/plain": [
       "Text(0.5, 1.0, 'Correlation Matrix')"
      ]
     },
     "execution_count": 18,
     "metadata": {},
     "output_type": "execute_result"
    },
    {
     "data": {
      "image/png": "[encoded data removed]",
      "text/plain": [
       "<Figure size 1008x720 with 2 Axes>"
      ]
     },
     "metadata": {
      "needs_background": "light"
     },
     "output_type": "display_data"
    }
   ],
   "source": [
    "#putting in a different variable the correlation matrix\n",
    "corr = df.corr()\n",
    "\n",
    "#plotting the correlation matrix\n",
    "dfMask = np.triu(np.ones_like(corr, dtype=np.bool))\n",
    "f, ax = plt.subplots(figsize=(14,10))\n",
    "cmap = sns.diverging_palette(220, 10, as_cmap=True)\n",
    "#using sns heatmap for the plotting\n",
    "sns.heatmap(corr,mask=dfMask, cmap=cmap, vmax=.8, center=0,square=True, linewidths=.5, cbar_kws={'shrink': .5})\n",
    "plt.title('Correlation Matrix', fontsize = 16)"
   ]
  },
  {
   "cell_type": "markdown",
   "metadata": {},
   "source": [
    "## Splitting the data for Train and Test"
   ]
  },
  {
   "cell_type": "code",
   "execution_count": 19,
   "metadata": {},
   "outputs": [],
   "source": [
    "dfTrain, dfTest = train_test_split(df, test_size=0.2)"
   ]
  },
  {
   "cell_type": "code",
   "execution_count": 20,
   "metadata": {},
   "outputs": [
    {
     "name": "stdout",
     "output_type": "stream",
     "text": [
      "Original Dataset: (494021, 42) ,Train Dataset: (395216, 42), Test Dataset:(98805, 42)\n"
     ]
    }
   ],
   "source": [
    "#printing the shape of all Datasets\n",
    "print(f'Original Dataset: {df.shape} ,Train Dataset: {dfTrain.shape}, Test Dataset:{dfTest.shape}')"
   ]
  },
  {
   "cell_type": "markdown",
   "metadata": {},
   "source": [
    "## Checking the distribution of the Train and Test Datasets"
   ]
  },
  {
   "cell_type": "code",
   "execution_count": 21,
   "metadata": {},
   "outputs": [
    {
     "name": "stdout",
     "output_type": "stream",
     "text": [
      "Distribution for Training set: smurf.              224441\n",
      "neptune.             85798\n",
      "normal.              77985\n",
      "back.                 1758\n",
      "satan.                1273\n",
      "ipsweep.               981\n",
      "portsweep.             855\n",
      "warezclient.           812\n",
      "teardrop.              774\n",
      "pod.                   215\n",
      "nmap.                  182\n",
      "guess_passwd.           41\n",
      "buffer_overflow.        25\n",
      "warezmaster.            16\n",
      "land.                   16\n",
      "rootkit.                10\n",
      "ftp_write.               8\n",
      "imap.                    7\n",
      "multihop.                6\n",
      "loadmodule.              6\n",
      "phf.                     4\n",
      "spy.                     2\n",
      "perl.                    1\n",
      "Name: label, dtype: int64\n"
     ]
    }
   ],
   "source": [
    "#creating a distribution based on the label name\n",
    "distTrain = dfTrain['label'].value_counts()\n",
    "distTest = dfTest['label'].value_counts()\n",
    "print(f'Distribution for Training set: {distTrain}')"
   ]
  },
  {
   "cell_type": "code",
   "execution_count": 22,
   "metadata": {},
   "outputs": [
    {
     "name": "stdout",
     "output_type": "stream",
     "text": [
      "Distribution for Training set: smurf.              56349\n",
      "neptune.            21403\n",
      "normal.             19293\n",
      "back.                 445\n",
      "satan.                316\n",
      "ipsweep.              266\n",
      "warezclient.          208\n",
      "teardrop.             205\n",
      "portsweep.            185\n",
      "pod.                   49\n",
      "nmap.                  49\n",
      "guess_passwd.          12\n",
      "imap.                   5\n",
      "buffer_overflow.        5\n",
      "land.                   5\n",
      "warezmaster.            4\n",
      "loadmodule.             3\n",
      "perl.                   2\n",
      "multihop.               1\n",
      "Name: label, dtype: int64\n"
     ]
    }
   ],
   "source": [
    "# Training dataset distribution\n",
    "print(f'Distribution for Training set: {distTest}')"
   ]
  },
  {
   "cell_type": "markdown",
   "metadata": {},
   "source": [
    "## Checking the datatypes"
   ]
  },
  {
   "cell_type": "code",
   "execution_count": 23,
   "metadata": {},
   "outputs": [
    {
     "name": "stdout",
     "output_type": "stream",
     "text": [
      "Train Datatypes:duration                         int64\n",
      "protocol_type                   object\n",
      "service                         object\n",
      "flag                            object\n",
      "src_bytes                        int64\n",
      "dst_bytes                        int64\n",
      "land                             int64\n",
      "wrong_fragment                   int64\n",
      "urgent                           int64\n",
      "hot                              int64\n",
      "num_failed_logins                int64\n",
      "logged_in                        int64\n",
      "num_compromised                  int64\n",
      "root_shell                       int64\n",
      "su_attempted                     int64\n",
      "num_root                         int64\n",
      "num_file_creations               int64\n",
      "num_shells                       int64\n",
      "num_access_files                 int64\n",
      "num_outbound_cmds                int64\n",
      "is_host_login                    int64\n",
      "is_guest_login                   int64\n",
      "count                            int64\n",
      "srv_count                        int64\n",
      "serror_rate                    float64\n",
      "srv_serror_rate                float64\n",
      "rerror_rate                    float64\n",
      "srv_rerror_rate                float64\n",
      "same_srv_rate                  float64\n",
      "diff_srv_rate                  float64\n",
      "srv_diff_host_rate             float64\n",
      "dst_host_count                   int64\n",
      "dst_host_srv_count               int64\n",
      "dst_host_same_srv_rate         float64\n",
      "dst_host_diff_srv_rate         float64\n",
      "dst_host_same_src_port_rate    float64\n",
      "dst_host_srv_diff_host_rate    float64\n",
      "dst_host_serror_rate           float64\n",
      "dst_host_srv_serror_rate       float64\n",
      "dst_host_rerror_rate           float64\n",
      "dst_host_srv_rerror_rate       float64\n",
      "label                           object\n",
      "dtype: object\n"
     ]
    }
   ],
   "source": [
    "print(f'Train Datatypes:{dfTrain.dtypes}')"
   ]
  },
  {
   "cell_type": "markdown",
   "metadata": {},
   "source": [
    "## Checking how many unique Categories each column has and corresponding distribution"
   ]
  },
  {
   "cell_type": "code",
   "execution_count": 24,
   "metadata": {},
   "outputs": [
    {
     "name": "stdout",
     "output_type": "stream",
     "text": [
      "Column: protocol_type has 3 unique categories\n",
      "Distribution for protocol_type\n",
      "icmp    226662\n",
      "tcp     152215\n",
      "udp      16339\n",
      "Name: protocol_type, dtype: int64\n",
      "\n",
      "Column: service has 65 unique categories\n",
      "Distribution for service\n",
      "ecr_i      224925\n",
      "private     88743\n",
      "http        51536\n",
      "smtp         7787\n",
      "other        5848\n",
      "            ...  \n",
      "urh_i          13\n",
      "X11             7\n",
      "tim_i           6\n",
      "red_i           1\n",
      "pm_dump         1\n",
      "Name: service, Length: 65, dtype: int64\n",
      "\n",
      "Column: flag has 11 unique categories\n",
      "Distribution for flag\n",
      "SF        302666\n",
      "S0         69632\n",
      "REJ        21551\n",
      "RSTR         735\n",
      "RSTO         465\n",
      "SH            85\n",
      "S1            42\n",
      "S2            16\n",
      "S3             9\n",
      "RSTOS0         8\n",
      "OTH            7\n",
      "Name: flag, dtype: int64\n",
      "\n",
      "Column: label has 23 unique categories\n",
      "Distribution for label\n",
      "smurf.              224441\n",
      "neptune.             85798\n",
      "normal.              77985\n",
      "back.                 1758\n",
      "satan.                1273\n",
      "ipsweep.               981\n",
      "portsweep.             855\n",
      "warezclient.           812\n",
      "teardrop.              774\n",
      "pod.                   215\n",
      "nmap.                  182\n",
      "guess_passwd.           41\n",
      "buffer_overflow.        25\n",
      "warezmaster.            16\n",
      "land.                   16\n",
      "rootkit.                10\n",
      "ftp_write.               8\n",
      "imap.                    7\n",
      "multihop.                6\n",
      "loadmodule.              6\n",
      "phf.                     4\n",
      "spy.                     2\n",
      "perl.                    1\n",
      "Name: label, dtype: int64\n",
      "\n"
     ]
    }
   ],
   "source": [
    "#checking how many unique categories as well as the distribution on the Train dataset\n",
    "checkUnique(dfTrain)"
   ]
  },
  {
   "cell_type": "code",
   "execution_count": 25,
   "metadata": {},
   "outputs": [
    {
     "name": "stdout",
     "output_type": "stream",
     "text": [
      "Column: protocol_type has 3 unique categories\n",
      "Distribution for protocol_type\n",
      "icmp    56940\n",
      "tcp     37850\n",
      "udp      4015\n",
      "Name: protocol_type, dtype: int64\n",
      "\n",
      "Column: service has 64 unique categories\n",
      "Distribution for service\n",
      "ecr_i      56475\n",
      "private    22150\n",
      "http       12757\n",
      "smtp        1936\n",
      "other       1389\n",
      "           ...  \n",
      "IRC           10\n",
      "X11            4\n",
      "tim_i          1\n",
      "tftp_u         1\n",
      "urh_i          1\n",
      "Name: service, Length: 64, dtype: int64\n",
      "\n",
      "Column: flag has 11 unique categories\n",
      "Distribution for flag\n",
      "SF        75774\n",
      "S0        17375\n",
      "REJ        5324\n",
      "RSTR        168\n",
      "RSTO        114\n",
      "SH           22\n",
      "S1           15\n",
      "S2            8\n",
      "RSTOS0        3\n",
      "OTH           1\n",
      "S3            1\n",
      "Name: flag, dtype: int64\n",
      "\n",
      "Column: label has 19 unique categories\n",
      "Distribution for label\n",
      "smurf.              56349\n",
      "neptune.            21403\n",
      "normal.             19293\n",
      "back.                 445\n",
      "satan.                316\n",
      "ipsweep.              266\n",
      "warezclient.          208\n",
      "teardrop.             205\n",
      "portsweep.            185\n",
      "pod.                   49\n",
      "nmap.                  49\n",
      "guess_passwd.          12\n",
      "imap.                   5\n",
      "buffer_overflow.        5\n",
      "land.                   5\n",
      "warezmaster.            4\n",
      "loadmodule.             3\n",
      "perl.                   2\n",
      "multihop.               1\n",
      "Name: label, dtype: int64\n",
      "\n"
     ]
    }
   ],
   "source": [
    "#checking how many unique categories as well as the distribution on the Test dataset\n",
    "checkUnique(dfTest)"
   ]
  },
  {
   "cell_type": "markdown",
   "metadata": {},
   "source": [
    "## Two options: (1) Add each category to the dataset. (2) Remove these object columns "
   ]
  },
  {
   "cell_type": "markdown",
   "metadata": {},
   "source": [
    "## Option 1\n",
    "* It will help the neural network\n"
   ]
  },
  {
   "cell_type": "code",
   "execution_count": 26,
   "metadata": {},
   "outputs": [],
   "source": [
    "#creating the 3 new columns of services, protocol_type, and flag\n",
    "columnNames = ['service', 'flag', 'protocol_type']\n",
    "\n",
    "#create a new df for those columns\n",
    "dfTrain_cat = dfTrain[columnNames]\n",
    "dfTest_cat = dfTest[columnNames]"
   ]
  },
  {
   "cell_type": "code",
   "execution_count": null,
   "metadata": {},
   "outputs": [],
   "source": []
  },
  {
   "cell_type": "code",
   "execution_count": 27,
   "metadata": {},
   "outputs": [
    {
     "data": {
      "text/html": [
       "<div>\n",
       "<style scoped>\n",
       "    .dataframe tbody tr th:only-of-type {\n",
       "        vertical-align: middle;\n",
       "    }\n",
       "\n",
       "    .dataframe tbody tr th {\n",
       "        vertical-align: top;\n",
       "    }\n",
       "\n",
       "    .dataframe thead th {\n",
       "        text-align: right;\n",
       "    }\n",
       "</style>\n",
       "<table border=\"1\" class=\"dataframe\">\n",
       "  <thead>\n",
       "    <tr style=\"text-align: right;\">\n",
       "      <th></th>\n",
       "      <th>service</th>\n",
       "      <th>flag</th>\n",
       "      <th>protocol_type</th>\n",
       "    </tr>\n",
       "  </thead>\n",
       "  <tbody>\n",
       "    <tr>\n",
       "      <th>290647</th>\n",
       "      <td>ecr_i</td>\n",
       "      <td>SF</td>\n",
       "      <td>icmp</td>\n",
       "    </tr>\n",
       "    <tr>\n",
       "      <th>353373</th>\n",
       "      <td>private</td>\n",
       "      <td>S0</td>\n",
       "      <td>tcp</td>\n",
       "    </tr>\n",
       "    <tr>\n",
       "      <th>354226</th>\n",
       "      <td>private</td>\n",
       "      <td>S0</td>\n",
       "      <td>tcp</td>\n",
       "    </tr>\n",
       "    <tr>\n",
       "      <th>420274</th>\n",
       "      <td>ecr_i</td>\n",
       "      <td>SF</td>\n",
       "      <td>icmp</td>\n",
       "    </tr>\n",
       "    <tr>\n",
       "      <th>417037</th>\n",
       "      <td>ecr_i</td>\n",
       "      <td>SF</td>\n",
       "      <td>icmp</td>\n",
       "    </tr>\n",
       "    <tr>\n",
       "      <th>347988</th>\n",
       "      <td>other</td>\n",
       "      <td>SF</td>\n",
       "      <td>udp</td>\n",
       "    </tr>\n",
       "    <tr>\n",
       "      <th>8208</th>\n",
       "      <td>ecr_i</td>\n",
       "      <td>SF</td>\n",
       "      <td>icmp</td>\n",
       "    </tr>\n",
       "    <tr>\n",
       "      <th>21367</th>\n",
       "      <td>http</td>\n",
       "      <td>SF</td>\n",
       "      <td>tcp</td>\n",
       "    </tr>\n",
       "    <tr>\n",
       "      <th>41128</th>\n",
       "      <td>ftp_data</td>\n",
       "      <td>SF</td>\n",
       "      <td>tcp</td>\n",
       "    </tr>\n",
       "    <tr>\n",
       "      <th>44362</th>\n",
       "      <td>ecr_i</td>\n",
       "      <td>SF</td>\n",
       "      <td>icmp</td>\n",
       "    </tr>\n",
       "  </tbody>\n",
       "</table>\n",
       "</div>"
      ],
      "text/plain": [
       "         service flag protocol_type\n",
       "290647     ecr_i   SF          icmp\n",
       "353373   private   S0           tcp\n",
       "354226   private   S0           tcp\n",
       "420274     ecr_i   SF          icmp\n",
       "417037     ecr_i   SF          icmp\n",
       "347988     other   SF           udp\n",
       "8208       ecr_i   SF          icmp\n",
       "21367       http   SF           tcp\n",
       "41128   ftp_data   SF           tcp\n",
       "44362      ecr_i   SF          icmp"
      ]
     },
     "execution_count": 27,
     "metadata": {},
     "output_type": "execute_result"
    }
   ],
   "source": [
    "dfTrain_cat.sample(10)"
   ]
  },
  {
   "cell_type": "code",
   "execution_count": 28,
   "metadata": {},
   "outputs": [
    {
     "data": {
      "image/png": "[encoded data removed]",
      "text/plain": [
       "<Figure size 1152x288 with 1 Axes>"
      ]
     },
     "metadata": {
      "needs_background": "light"
     },
     "output_type": "display_data"
    }
   ],
   "source": [
    "plt.figure(figsize=(16,4))\n",
    "plotGraph('service')"
   ]
  },
  {
   "cell_type": "code",
   "execution_count": 29,
   "metadata": {},
   "outputs": [
    {
     "data": {
      "image/png": "[encoded data removed]",
      "text/plain": [
       "<Figure size 1152x288 with 1 Axes>"
      ]
     },
     "metadata": {
      "needs_background": "light"
     },
     "output_type": "display_data"
    }
   ],
   "source": [
    "plt.figure(figsize=(16,4))\n",
    "plotGraph('flag')"
   ]
  },
  {
   "cell_type": "code",
   "execution_count": 30,
   "metadata": {},
   "outputs": [
    {
     "data": {
      "image/png": "[encoded data removed]",
      "text/plain": [
       "<Figure size 432x288 with 1 Axes>"
      ]
     },
     "metadata": {
      "needs_background": "light"
     },
     "output_type": "display_data"
    }
   ],
   "source": [
    "plotGraph('protocol_type')"
   ]
  },
  {
   "cell_type": "code",
   "execution_count": 31,
   "metadata": {},
   "outputs": [],
   "source": [
    "#creating the new column names for the new categories on the Train dataset\n",
    "ServiceNamesTrain = createLabel('service',dfTrain)\n",
    "FlagNamesTrain = createLabel('flag',dfTrain)\n",
    "protocolNamesTrain = createLabel('protocol_type',dfTrain)\n",
    "#adding all columns name to a single set\n",
    "allColumnsTrain = ServiceNamesTrain + FlagNamesTrain + protocolNamesTrain"
   ]
  },
  {
   "cell_type": "code",
   "execution_count": 32,
   "metadata": {},
   "outputs": [
    {
     "data": {
      "text/plain": [
       "['service_IRC',\n",
       " 'service_X11',\n",
       " 'service_Z39_50',\n",
       " 'service_auth',\n",
       " 'service_bgp',\n",
       " 'service_courier',\n",
       " 'service_csnet_ns',\n",
       " 'service_ctf',\n",
       " 'service_daytime',\n",
       " 'service_discard',\n",
       " 'service_domain',\n",
       " 'service_domain_u',\n",
       " 'service_echo',\n",
       " 'service_eco_i',\n",
       " 'service_ecr_i',\n",
       " 'service_efs',\n",
       " 'service_exec',\n",
       " 'service_finger',\n",
       " 'service_ftp',\n",
       " 'service_ftp_data',\n",
       " 'service_gopher',\n",
       " 'service_hostnames',\n",
       " 'service_http',\n",
       " 'service_http_443',\n",
       " 'service_imap4',\n",
       " 'service_iso_tsap',\n",
       " 'service_klogin',\n",
       " 'service_kshell',\n",
       " 'service_ldap',\n",
       " 'service_link',\n",
       " 'service_login',\n",
       " 'service_mtp',\n",
       " 'service_name',\n",
       " 'service_netbios_dgm',\n",
       " 'service_netbios_ns',\n",
       " 'service_netbios_ssn',\n",
       " 'service_netstat',\n",
       " 'service_nnsp',\n",
       " 'service_nntp',\n",
       " 'service_ntp_u',\n",
       " 'service_other',\n",
       " 'service_pm_dump',\n",
       " 'service_pop_2',\n",
       " 'service_pop_3',\n",
       " 'service_printer',\n",
       " 'service_private',\n",
       " 'service_red_i',\n",
       " 'service_remote_job',\n",
       " 'service_rje',\n",
       " 'service_shell',\n",
       " 'service_smtp',\n",
       " 'service_sql_net',\n",
       " 'service_ssh',\n",
       " 'service_sunrpc',\n",
       " 'service_supdup',\n",
       " 'service_systat',\n",
       " 'service_telnet',\n",
       " 'service_tim_i',\n",
       " 'service_time',\n",
       " 'service_urh_i',\n",
       " 'service_urp_i',\n",
       " 'service_uucp',\n",
       " 'service_uucp_path',\n",
       " 'service_vmnet',\n",
       " 'service_whois',\n",
       " 'flag_OTH',\n",
       " 'flag_REJ',\n",
       " 'flag_RSTO',\n",
       " 'flag_RSTOS0',\n",
       " 'flag_RSTR',\n",
       " 'flag_S0',\n",
       " 'flag_S1',\n",
       " 'flag_S2',\n",
       " 'flag_S3',\n",
       " 'flag_SF',\n",
       " 'flag_SH',\n",
       " 'protocol_type_icmp',\n",
       " 'protocol_type_tcp',\n",
       " 'protocol_type_udp']"
      ]
     },
     "execution_count": 32,
     "metadata": {},
     "output_type": "execute_result"
    }
   ],
   "source": [
    "allColumnsTrain"
   ]
  },
  {
   "cell_type": "code",
   "execution_count": 33,
   "metadata": {},
   "outputs": [],
   "source": [
    "#creating the new column names for the new categories on the Test dataset\n",
    "ServiceNamesTest = createLabel('service',dfTest)\n",
    "FlagNamesTest = createLabel('flag',dfTest)\n",
    "protocolNamesTest = createLabel('protocol_type',dfTest)\n",
    "#adding all columns name to a single set\n",
    "allColumnsTest = ServiceNamesTest + FlagNamesTest + protocolNamesTest"
   ]
  },
  {
   "cell_type": "code",
   "execution_count": 34,
   "metadata": {},
   "outputs": [],
   "source": [
    "#creating a label encoder for the new categories\n",
    "dfTrainCategorical=dfTrain_cat.apply(LabelEncoder().fit_transform)\n",
    "dfTestCategorical=dfTest_cat.apply(LabelEncoder().fit_transform)"
   ]
  },
  {
   "cell_type": "code",
   "execution_count": 35,
   "metadata": {},
   "outputs": [
    {
     "data": {
      "text/html": [
       "<div>\n",
       "<style scoped>\n",
       "    .dataframe tbody tr th:only-of-type {\n",
       "        vertical-align: middle;\n",
       "    }\n",
       "\n",
       "    .dataframe tbody tr th {\n",
       "        vertical-align: top;\n",
       "    }\n",
       "\n",
       "    .dataframe thead th {\n",
       "        text-align: right;\n",
       "    }\n",
       "</style>\n",
       "<table border=\"1\" class=\"dataframe\">\n",
       "  <thead>\n",
       "    <tr style=\"text-align: right;\">\n",
       "      <th></th>\n",
       "      <th>service</th>\n",
       "      <th>flag</th>\n",
       "      <th>protocol_type</th>\n",
       "    </tr>\n",
       "  </thead>\n",
       "  <tbody>\n",
       "    <tr>\n",
       "      <th>333799</th>\n",
       "      <td>ecr_i</td>\n",
       "      <td>SF</td>\n",
       "      <td>icmp</td>\n",
       "    </tr>\n",
       "    <tr>\n",
       "      <th>317617</th>\n",
       "      <td>ecr_i</td>\n",
       "      <td>SF</td>\n",
       "      <td>icmp</td>\n",
       "    </tr>\n",
       "    <tr>\n",
       "      <th>393048</th>\n",
       "      <td>private</td>\n",
       "      <td>S0</td>\n",
       "      <td>tcp</td>\n",
       "    </tr>\n",
       "    <tr>\n",
       "      <th>210385</th>\n",
       "      <td>ecr_i</td>\n",
       "      <td>SF</td>\n",
       "      <td>icmp</td>\n",
       "    </tr>\n",
       "    <tr>\n",
       "      <th>37735</th>\n",
       "      <td>http</td>\n",
       "      <td>SF</td>\n",
       "      <td>tcp</td>\n",
       "    </tr>\n",
       "  </tbody>\n",
       "</table>\n",
       "</div>"
      ],
      "text/plain": [
       "        service flag protocol_type\n",
       "333799    ecr_i   SF          icmp\n",
       "317617    ecr_i   SF          icmp\n",
       "393048  private   S0           tcp\n",
       "210385    ecr_i   SF          icmp\n",
       "37735      http   SF           tcp"
      ]
     },
     "execution_count": 35,
     "metadata": {},
     "output_type": "execute_result"
    }
   ],
   "source": [
    "#before label encoding\n",
    "dfTrain_cat.head()"
   ]
  },
  {
   "cell_type": "code",
   "execution_count": 36,
   "metadata": {},
   "outputs": [
    {
     "data": {
      "text/html": [
       "<div>\n",
       "<style scoped>\n",
       "    .dataframe tbody tr th:only-of-type {\n",
       "        vertical-align: middle;\n",
       "    }\n",
       "\n",
       "    .dataframe tbody tr th {\n",
       "        vertical-align: top;\n",
       "    }\n",
       "\n",
       "    .dataframe thead th {\n",
       "        text-align: right;\n",
       "    }\n",
       "</style>\n",
       "<table border=\"1\" class=\"dataframe\">\n",
       "  <thead>\n",
       "    <tr style=\"text-align: right;\">\n",
       "      <th></th>\n",
       "      <th>service</th>\n",
       "      <th>flag</th>\n",
       "      <th>protocol_type</th>\n",
       "    </tr>\n",
       "  </thead>\n",
       "  <tbody>\n",
       "    <tr>\n",
       "      <th>333799</th>\n",
       "      <td>14</td>\n",
       "      <td>9</td>\n",
       "      <td>0</td>\n",
       "    </tr>\n",
       "    <tr>\n",
       "      <th>317617</th>\n",
       "      <td>14</td>\n",
       "      <td>9</td>\n",
       "      <td>0</td>\n",
       "    </tr>\n",
       "    <tr>\n",
       "      <th>393048</th>\n",
       "      <td>45</td>\n",
       "      <td>5</td>\n",
       "      <td>1</td>\n",
       "    </tr>\n",
       "    <tr>\n",
       "      <th>210385</th>\n",
       "      <td>14</td>\n",
       "      <td>9</td>\n",
       "      <td>0</td>\n",
       "    </tr>\n",
       "    <tr>\n",
       "      <th>37735</th>\n",
       "      <td>22</td>\n",
       "      <td>9</td>\n",
       "      <td>1</td>\n",
       "    </tr>\n",
       "  </tbody>\n",
       "</table>\n",
       "</div>"
      ],
      "text/plain": [
       "        service  flag  protocol_type\n",
       "333799       14     9              0\n",
       "317617       14     9              0\n",
       "393048       45     5              1\n",
       "210385       14     9              0\n",
       "37735        22     9              1"
      ]
     },
     "execution_count": 36,
     "metadata": {},
     "output_type": "execute_result"
    }
   ],
   "source": [
    "#after label encoding\n",
    "dfTrainCategorical.head()"
   ]
  },
  {
   "cell_type": "code",
   "execution_count": 37,
   "metadata": {},
   "outputs": [],
   "source": [
    "#creating the new df with the new categories added to the train dataset\n",
    "dfTrainCategoricalFinal = createNewCategorical(dfTrainCategorical, allColumnsTrain)"
   ]
  },
  {
   "cell_type": "code",
   "execution_count": 38,
   "metadata": {},
   "outputs": [],
   "source": [
    "#creating the new df with the new categories added to the test dataset\n",
    "dfTestCategoricalFinal = createNewCategorical(dfTestCategorical, allColumnsTest)"
   ]
  },
  {
   "cell_type": "code",
   "execution_count": 39,
   "metadata": {},
   "outputs": [
    {
     "data": {
      "text/html": [
       "<div>\n",
       "<style scoped>\n",
       "    .dataframe tbody tr th:only-of-type {\n",
       "        vertical-align: middle;\n",
       "    }\n",
       "\n",
       "    .dataframe tbody tr th {\n",
       "        vertical-align: top;\n",
       "    }\n",
       "\n",
       "    .dataframe thead th {\n",
       "        text-align: right;\n",
       "    }\n",
       "</style>\n",
       "<table border=\"1\" class=\"dataframe\">\n",
       "  <thead>\n",
       "    <tr style=\"text-align: right;\">\n",
       "      <th></th>\n",
       "      <th>service_IRC</th>\n",
       "      <th>service_X11</th>\n",
       "      <th>service_Z39_50</th>\n",
       "      <th>service_auth</th>\n",
       "      <th>service_bgp</th>\n",
       "      <th>service_courier</th>\n",
       "      <th>service_csnet_ns</th>\n",
       "      <th>service_ctf</th>\n",
       "      <th>service_daytime</th>\n",
       "      <th>service_discard</th>\n",
       "      <th>...</th>\n",
       "      <th>flag_RSTR</th>\n",
       "      <th>flag_S0</th>\n",
       "      <th>flag_S1</th>\n",
       "      <th>flag_S2</th>\n",
       "      <th>flag_S3</th>\n",
       "      <th>flag_SF</th>\n",
       "      <th>flag_SH</th>\n",
       "      <th>protocol_type_icmp</th>\n",
       "      <th>protocol_type_tcp</th>\n",
       "      <th>protocol_type_udp</th>\n",
       "    </tr>\n",
       "  </thead>\n",
       "  <tbody>\n",
       "    <tr>\n",
       "      <th>0</th>\n",
       "      <td>0.0</td>\n",
       "      <td>0.0</td>\n",
       "      <td>0.0</td>\n",
       "      <td>0.0</td>\n",
       "      <td>0.0</td>\n",
       "      <td>0.0</td>\n",
       "      <td>0.0</td>\n",
       "      <td>0.0</td>\n",
       "      <td>0.0</td>\n",
       "      <td>0.0</td>\n",
       "      <td>...</td>\n",
       "      <td>0.0</td>\n",
       "      <td>0.0</td>\n",
       "      <td>0.0</td>\n",
       "      <td>0.0</td>\n",
       "      <td>0.0</td>\n",
       "      <td>1.0</td>\n",
       "      <td>0.0</td>\n",
       "      <td>1.0</td>\n",
       "      <td>0.0</td>\n",
       "      <td>0.0</td>\n",
       "    </tr>\n",
       "    <tr>\n",
       "      <th>1</th>\n",
       "      <td>0.0</td>\n",
       "      <td>0.0</td>\n",
       "      <td>0.0</td>\n",
       "      <td>0.0</td>\n",
       "      <td>0.0</td>\n",
       "      <td>0.0</td>\n",
       "      <td>0.0</td>\n",
       "      <td>0.0</td>\n",
       "      <td>0.0</td>\n",
       "      <td>0.0</td>\n",
       "      <td>...</td>\n",
       "      <td>0.0</td>\n",
       "      <td>0.0</td>\n",
       "      <td>0.0</td>\n",
       "      <td>0.0</td>\n",
       "      <td>0.0</td>\n",
       "      <td>1.0</td>\n",
       "      <td>0.0</td>\n",
       "      <td>1.0</td>\n",
       "      <td>0.0</td>\n",
       "      <td>0.0</td>\n",
       "    </tr>\n",
       "    <tr>\n",
       "      <th>2</th>\n",
       "      <td>0.0</td>\n",
       "      <td>0.0</td>\n",
       "      <td>0.0</td>\n",
       "      <td>0.0</td>\n",
       "      <td>0.0</td>\n",
       "      <td>0.0</td>\n",
       "      <td>0.0</td>\n",
       "      <td>0.0</td>\n",
       "      <td>0.0</td>\n",
       "      <td>0.0</td>\n",
       "      <td>...</td>\n",
       "      <td>0.0</td>\n",
       "      <td>1.0</td>\n",
       "      <td>0.0</td>\n",
       "      <td>0.0</td>\n",
       "      <td>0.0</td>\n",
       "      <td>0.0</td>\n",
       "      <td>0.0</td>\n",
       "      <td>0.0</td>\n",
       "      <td>1.0</td>\n",
       "      <td>0.0</td>\n",
       "    </tr>\n",
       "    <tr>\n",
       "      <th>3</th>\n",
       "      <td>0.0</td>\n",
       "      <td>0.0</td>\n",
       "      <td>0.0</td>\n",
       "      <td>0.0</td>\n",
       "      <td>0.0</td>\n",
       "      <td>0.0</td>\n",
       "      <td>0.0</td>\n",
       "      <td>0.0</td>\n",
       "      <td>0.0</td>\n",
       "      <td>0.0</td>\n",
       "      <td>...</td>\n",
       "      <td>0.0</td>\n",
       "      <td>0.0</td>\n",
       "      <td>0.0</td>\n",
       "      <td>0.0</td>\n",
       "      <td>0.0</td>\n",
       "      <td>1.0</td>\n",
       "      <td>0.0</td>\n",
       "      <td>1.0</td>\n",
       "      <td>0.0</td>\n",
       "      <td>0.0</td>\n",
       "    </tr>\n",
       "    <tr>\n",
       "      <th>4</th>\n",
       "      <td>0.0</td>\n",
       "      <td>0.0</td>\n",
       "      <td>0.0</td>\n",
       "      <td>0.0</td>\n",
       "      <td>0.0</td>\n",
       "      <td>0.0</td>\n",
       "      <td>0.0</td>\n",
       "      <td>0.0</td>\n",
       "      <td>0.0</td>\n",
       "      <td>0.0</td>\n",
       "      <td>...</td>\n",
       "      <td>0.0</td>\n",
       "      <td>0.0</td>\n",
       "      <td>0.0</td>\n",
       "      <td>0.0</td>\n",
       "      <td>0.0</td>\n",
       "      <td>1.0</td>\n",
       "      <td>0.0</td>\n",
       "      <td>0.0</td>\n",
       "      <td>1.0</td>\n",
       "      <td>0.0</td>\n",
       "    </tr>\n",
       "  </tbody>\n",
       "</table>\n",
       "<p>5 rows × 79 columns</p>\n",
       "</div>"
      ],
      "text/plain": [
       "   service_IRC  service_X11  service_Z39_50  service_auth  service_bgp  \\\n",
       "0          0.0          0.0             0.0           0.0          0.0   \n",
       "1          0.0          0.0             0.0           0.0          0.0   \n",
       "2          0.0          0.0             0.0           0.0          0.0   \n",
       "3          0.0          0.0             0.0           0.0          0.0   \n",
       "4          0.0          0.0             0.0           0.0          0.0   \n",
       "\n",
       "   service_courier  service_csnet_ns  service_ctf  service_daytime  \\\n",
       "0              0.0               0.0          0.0              0.0   \n",
       "1              0.0               0.0          0.0              0.0   \n",
       "2              0.0               0.0          0.0              0.0   \n",
       "3              0.0               0.0          0.0              0.0   \n",
       "4              0.0               0.0          0.0              0.0   \n",
       "\n",
       "   service_discard  ...  flag_RSTR  flag_S0  flag_S1  flag_S2  flag_S3  \\\n",
       "0              0.0  ...        0.0      0.0      0.0      0.0      0.0   \n",
       "1              0.0  ...        0.0      0.0      0.0      0.0      0.0   \n",
       "2              0.0  ...        0.0      1.0      0.0      0.0      0.0   \n",
       "3              0.0  ...        0.0      0.0      0.0      0.0      0.0   \n",
       "4              0.0  ...        0.0      0.0      0.0      0.0      0.0   \n",
       "\n",
       "   flag_SF  flag_SH  protocol_type_icmp  protocol_type_tcp  protocol_type_udp  \n",
       "0      1.0      0.0                 1.0                0.0                0.0  \n",
       "1      1.0      0.0                 1.0                0.0                0.0  \n",
       "2      0.0      0.0                 0.0                1.0                0.0  \n",
       "3      1.0      0.0                 1.0                0.0                0.0  \n",
       "4      1.0      0.0                 0.0                1.0                0.0  \n",
       "\n",
       "[5 rows x 79 columns]"
      ]
     },
     "execution_count": 39,
     "metadata": {},
     "output_type": "execute_result"
    }
   ],
   "source": [
    "dfTrainCategoricalFinal.head()"
   ]
  },
  {
   "cell_type": "code",
   "execution_count": 40,
   "metadata": {},
   "outputs": [
    {
     "data": {
      "text/html": [
       "<div>\n",
       "<style scoped>\n",
       "    .dataframe tbody tr th:only-of-type {\n",
       "        vertical-align: middle;\n",
       "    }\n",
       "\n",
       "    .dataframe tbody tr th {\n",
       "        vertical-align: top;\n",
       "    }\n",
       "\n",
       "    .dataframe thead th {\n",
       "        text-align: right;\n",
       "    }\n",
       "</style>\n",
       "<table border=\"1\" class=\"dataframe\">\n",
       "  <thead>\n",
       "    <tr style=\"text-align: right;\">\n",
       "      <th></th>\n",
       "      <th>service_IRC</th>\n",
       "      <th>service_X11</th>\n",
       "      <th>service_Z39_50</th>\n",
       "      <th>service_auth</th>\n",
       "      <th>service_bgp</th>\n",
       "      <th>service_courier</th>\n",
       "      <th>service_csnet_ns</th>\n",
       "      <th>service_ctf</th>\n",
       "      <th>service_daytime</th>\n",
       "      <th>service_discard</th>\n",
       "      <th>...</th>\n",
       "      <th>flag_RSTR</th>\n",
       "      <th>flag_S0</th>\n",
       "      <th>flag_S1</th>\n",
       "      <th>flag_S2</th>\n",
       "      <th>flag_S3</th>\n",
       "      <th>flag_SF</th>\n",
       "      <th>flag_SH</th>\n",
       "      <th>protocol_type_icmp</th>\n",
       "      <th>protocol_type_tcp</th>\n",
       "      <th>protocol_type_udp</th>\n",
       "    </tr>\n",
       "  </thead>\n",
       "  <tbody>\n",
       "    <tr>\n",
       "      <th>0</th>\n",
       "      <td>0.0</td>\n",
       "      <td>0.0</td>\n",
       "      <td>0.0</td>\n",
       "      <td>0.0</td>\n",
       "      <td>0.0</td>\n",
       "      <td>0.0</td>\n",
       "      <td>0.0</td>\n",
       "      <td>0.0</td>\n",
       "      <td>0.0</td>\n",
       "      <td>0.0</td>\n",
       "      <td>...</td>\n",
       "      <td>0.0</td>\n",
       "      <td>0.0</td>\n",
       "      <td>0.0</td>\n",
       "      <td>0.0</td>\n",
       "      <td>0.0</td>\n",
       "      <td>0.0</td>\n",
       "      <td>0.0</td>\n",
       "      <td>0.0</td>\n",
       "      <td>1.0</td>\n",
       "      <td>0.0</td>\n",
       "    </tr>\n",
       "    <tr>\n",
       "      <th>1</th>\n",
       "      <td>0.0</td>\n",
       "      <td>0.0</td>\n",
       "      <td>0.0</td>\n",
       "      <td>0.0</td>\n",
       "      <td>0.0</td>\n",
       "      <td>0.0</td>\n",
       "      <td>0.0</td>\n",
       "      <td>0.0</td>\n",
       "      <td>0.0</td>\n",
       "      <td>0.0</td>\n",
       "      <td>...</td>\n",
       "      <td>0.0</td>\n",
       "      <td>0.0</td>\n",
       "      <td>0.0</td>\n",
       "      <td>0.0</td>\n",
       "      <td>0.0</td>\n",
       "      <td>1.0</td>\n",
       "      <td>0.0</td>\n",
       "      <td>0.0</td>\n",
       "      <td>0.0</td>\n",
       "      <td>1.0</td>\n",
       "    </tr>\n",
       "    <tr>\n",
       "      <th>2</th>\n",
       "      <td>0.0</td>\n",
       "      <td>0.0</td>\n",
       "      <td>0.0</td>\n",
       "      <td>0.0</td>\n",
       "      <td>0.0</td>\n",
       "      <td>0.0</td>\n",
       "      <td>0.0</td>\n",
       "      <td>0.0</td>\n",
       "      <td>0.0</td>\n",
       "      <td>0.0</td>\n",
       "      <td>...</td>\n",
       "      <td>0.0</td>\n",
       "      <td>0.0</td>\n",
       "      <td>0.0</td>\n",
       "      <td>0.0</td>\n",
       "      <td>0.0</td>\n",
       "      <td>1.0</td>\n",
       "      <td>0.0</td>\n",
       "      <td>0.0</td>\n",
       "      <td>0.0</td>\n",
       "      <td>1.0</td>\n",
       "    </tr>\n",
       "    <tr>\n",
       "      <th>3</th>\n",
       "      <td>0.0</td>\n",
       "      <td>0.0</td>\n",
       "      <td>0.0</td>\n",
       "      <td>0.0</td>\n",
       "      <td>0.0</td>\n",
       "      <td>0.0</td>\n",
       "      <td>0.0</td>\n",
       "      <td>0.0</td>\n",
       "      <td>0.0</td>\n",
       "      <td>0.0</td>\n",
       "      <td>...</td>\n",
       "      <td>0.0</td>\n",
       "      <td>0.0</td>\n",
       "      <td>0.0</td>\n",
       "      <td>0.0</td>\n",
       "      <td>0.0</td>\n",
       "      <td>1.0</td>\n",
       "      <td>0.0</td>\n",
       "      <td>1.0</td>\n",
       "      <td>0.0</td>\n",
       "      <td>0.0</td>\n",
       "    </tr>\n",
       "    <tr>\n",
       "      <th>4</th>\n",
       "      <td>0.0</td>\n",
       "      <td>0.0</td>\n",
       "      <td>0.0</td>\n",
       "      <td>0.0</td>\n",
       "      <td>0.0</td>\n",
       "      <td>0.0</td>\n",
       "      <td>0.0</td>\n",
       "      <td>0.0</td>\n",
       "      <td>0.0</td>\n",
       "      <td>0.0</td>\n",
       "      <td>...</td>\n",
       "      <td>0.0</td>\n",
       "      <td>1.0</td>\n",
       "      <td>0.0</td>\n",
       "      <td>0.0</td>\n",
       "      <td>0.0</td>\n",
       "      <td>0.0</td>\n",
       "      <td>0.0</td>\n",
       "      <td>0.0</td>\n",
       "      <td>1.0</td>\n",
       "      <td>0.0</td>\n",
       "    </tr>\n",
       "  </tbody>\n",
       "</table>\n",
       "<p>5 rows × 78 columns</p>\n",
       "</div>"
      ],
      "text/plain": [
       "   service_IRC  service_X11  service_Z39_50  service_auth  service_bgp  \\\n",
       "0          0.0          0.0             0.0           0.0          0.0   \n",
       "1          0.0          0.0             0.0           0.0          0.0   \n",
       "2          0.0          0.0             0.0           0.0          0.0   \n",
       "3          0.0          0.0             0.0           0.0          0.0   \n",
       "4          0.0          0.0             0.0           0.0          0.0   \n",
       "\n",
       "   service_courier  service_csnet_ns  service_ctf  service_daytime  \\\n",
       "0              0.0               0.0          0.0              0.0   \n",
       "1              0.0               0.0          0.0              0.0   \n",
       "2              0.0               0.0          0.0              0.0   \n",
       "3              0.0               0.0          0.0              0.0   \n",
       "4              0.0               0.0          0.0              0.0   \n",
       "\n",
       "   service_discard  ...  flag_RSTR  flag_S0  flag_S1  flag_S2  flag_S3  \\\n",
       "0              0.0  ...        0.0      0.0      0.0      0.0      0.0   \n",
       "1              0.0  ...        0.0      0.0      0.0      0.0      0.0   \n",
       "2              0.0  ...        0.0      0.0      0.0      0.0      0.0   \n",
       "3              0.0  ...        0.0      0.0      0.0      0.0      0.0   \n",
       "4              0.0  ...        0.0      1.0      0.0      0.0      0.0   \n",
       "\n",
       "   flag_SF  flag_SH  protocol_type_icmp  protocol_type_tcp  protocol_type_udp  \n",
       "0      0.0      0.0                 0.0                1.0                0.0  \n",
       "1      1.0      0.0                 0.0                0.0                1.0  \n",
       "2      1.0      0.0                 0.0                0.0                1.0  \n",
       "3      1.0      0.0                 1.0                0.0                0.0  \n",
       "4      0.0      0.0                 0.0                1.0                0.0  \n",
       "\n",
       "[5 rows x 78 columns]"
      ]
     },
     "execution_count": 40,
     "metadata": {},
     "output_type": "execute_result"
    }
   ],
   "source": [
    "dfTestCategoricalFinal.head()"
   ]
  },
  {
   "cell_type": "code",
   "execution_count": 41,
   "metadata": {},
   "outputs": [
    {
     "name": "stdout",
     "output_type": "stream",
     "text": [
      "Columns missing on test data sets are:\n",
      "['service_pm_dump', 'service_red_i']\n",
      "\n",
      "Columns missing on test data sets are:\n",
      "[]\n",
      "\n",
      "Columns missing on test data sets are:\n",
      "[]\n",
      "\n"
     ]
    }
   ],
   "source": [
    "#checking which columns are missing on the test dataset\n",
    "columnS= checkMissingColumn(dfTrain, dfTest,'service', 'test')\n",
    "columnF= checkMissingColumn(dfTrain, dfTest,'flag','test')\n",
    "columnP= checkMissingColumn(dfTrain, dfTest,'protocol_type', 'test')"
   ]
  },
  {
   "cell_type": "code",
   "execution_count": 42,
   "metadata": {},
   "outputs": [
    {
     "name": "stdout",
     "output_type": "stream",
     "text": [
      "Columns missing on train data sets are:\n",
      "['service_tftp_u']\n",
      "\n",
      "Columns missing on train data sets are:\n",
      "[]\n",
      "\n",
      "Columns missing on train data sets are:\n",
      "[]\n",
      "\n"
     ]
    }
   ],
   "source": [
    "#checking which columns are missing on the train dataset\n",
    "columnS2= checkMissingColumn(dfTest,dfTrain,'service', 'train')\n",
    "columnF2= checkMissingColumn(dfTest,dfTrain, 'flag', 'train')\n",
    "columnP2= checkMissingColumn(dfTest,dfTrain,'protocol_type', 'train')"
   ]
  },
  {
   "cell_type": "code",
   "execution_count": 43,
   "metadata": {},
   "outputs": [],
   "source": [
    "#adding the missing columns on the df categorical\n",
    "dfTrainCatFinal = addMissingColumn(dfTrainCategoricalFinal, columnS2)\n",
    "dfTestCatFinal = addMissingColumn(dfTestCategoricalFinal, columnS)\n",
    "dfTestCatFinal = addMissingColumn(dfTestCategoricalFinal, columnF)"
   ]
  },
  {
   "cell_type": "code",
   "execution_count": null,
   "metadata": {},
   "outputs": [],
   "source": []
  },
  {
   "cell_type": "code",
   "execution_count": 44,
   "metadata": {},
   "outputs": [
    {
     "name": "stdout",
     "output_type": "stream",
     "text": [
      "(395216, 80)\n",
      "(98805, 80)\n"
     ]
    }
   ],
   "source": [
    "#now we get the same column shape for both train and test dataset \n",
    "print(dfTrainCatFinal.shape)    \n",
    "print(dfTestCatFinal.shape)"
   ]
  },
  {
   "cell_type": "code",
   "execution_count": 45,
   "metadata": {},
   "outputs": [
    {
     "data": {
      "text/html": [
       "<div>\n",
       "<style scoped>\n",
       "    .dataframe tbody tr th:only-of-type {\n",
       "        vertical-align: middle;\n",
       "    }\n",
       "\n",
       "    .dataframe tbody tr th {\n",
       "        vertical-align: top;\n",
       "    }\n",
       "\n",
       "    .dataframe thead th {\n",
       "        text-align: right;\n",
       "    }\n",
       "</style>\n",
       "<table border=\"1\" class=\"dataframe\">\n",
       "  <thead>\n",
       "    <tr style=\"text-align: right;\">\n",
       "      <th></th>\n",
       "      <th>service_IRC</th>\n",
       "      <th>service_X11</th>\n",
       "      <th>service_Z39_50</th>\n",
       "      <th>service_auth</th>\n",
       "      <th>service_bgp</th>\n",
       "      <th>service_courier</th>\n",
       "      <th>service_csnet_ns</th>\n",
       "      <th>service_ctf</th>\n",
       "      <th>service_daytime</th>\n",
       "      <th>service_discard</th>\n",
       "      <th>...</th>\n",
       "      <th>flag_S0</th>\n",
       "      <th>flag_S1</th>\n",
       "      <th>flag_S2</th>\n",
       "      <th>flag_S3</th>\n",
       "      <th>flag_SF</th>\n",
       "      <th>flag_SH</th>\n",
       "      <th>protocol_type_icmp</th>\n",
       "      <th>protocol_type_tcp</th>\n",
       "      <th>protocol_type_udp</th>\n",
       "      <th>service_tftp_u</th>\n",
       "    </tr>\n",
       "  </thead>\n",
       "  <tbody>\n",
       "    <tr>\n",
       "      <th>0</th>\n",
       "      <td>0.0</td>\n",
       "      <td>0.0</td>\n",
       "      <td>0.0</td>\n",
       "      <td>0.0</td>\n",
       "      <td>0.0</td>\n",
       "      <td>0.0</td>\n",
       "      <td>0.0</td>\n",
       "      <td>0.0</td>\n",
       "      <td>0.0</td>\n",
       "      <td>0.0</td>\n",
       "      <td>...</td>\n",
       "      <td>0.0</td>\n",
       "      <td>0.0</td>\n",
       "      <td>0.0</td>\n",
       "      <td>0.0</td>\n",
       "      <td>1.0</td>\n",
       "      <td>0.0</td>\n",
       "      <td>1.0</td>\n",
       "      <td>0.0</td>\n",
       "      <td>0.0</td>\n",
       "      <td>0</td>\n",
       "    </tr>\n",
       "    <tr>\n",
       "      <th>1</th>\n",
       "      <td>0.0</td>\n",
       "      <td>0.0</td>\n",
       "      <td>0.0</td>\n",
       "      <td>0.0</td>\n",
       "      <td>0.0</td>\n",
       "      <td>0.0</td>\n",
       "      <td>0.0</td>\n",
       "      <td>0.0</td>\n",
       "      <td>0.0</td>\n",
       "      <td>0.0</td>\n",
       "      <td>...</td>\n",
       "      <td>0.0</td>\n",
       "      <td>0.0</td>\n",
       "      <td>0.0</td>\n",
       "      <td>0.0</td>\n",
       "      <td>1.0</td>\n",
       "      <td>0.0</td>\n",
       "      <td>1.0</td>\n",
       "      <td>0.0</td>\n",
       "      <td>0.0</td>\n",
       "      <td>0</td>\n",
       "    </tr>\n",
       "    <tr>\n",
       "      <th>2</th>\n",
       "      <td>0.0</td>\n",
       "      <td>0.0</td>\n",
       "      <td>0.0</td>\n",
       "      <td>0.0</td>\n",
       "      <td>0.0</td>\n",
       "      <td>0.0</td>\n",
       "      <td>0.0</td>\n",
       "      <td>0.0</td>\n",
       "      <td>0.0</td>\n",
       "      <td>0.0</td>\n",
       "      <td>...</td>\n",
       "      <td>1.0</td>\n",
       "      <td>0.0</td>\n",
       "      <td>0.0</td>\n",
       "      <td>0.0</td>\n",
       "      <td>0.0</td>\n",
       "      <td>0.0</td>\n",
       "      <td>0.0</td>\n",
       "      <td>1.0</td>\n",
       "      <td>0.0</td>\n",
       "      <td>0</td>\n",
       "    </tr>\n",
       "    <tr>\n",
       "      <th>3</th>\n",
       "      <td>0.0</td>\n",
       "      <td>0.0</td>\n",
       "      <td>0.0</td>\n",
       "      <td>0.0</td>\n",
       "      <td>0.0</td>\n",
       "      <td>0.0</td>\n",
       "      <td>0.0</td>\n",
       "      <td>0.0</td>\n",
       "      <td>0.0</td>\n",
       "      <td>0.0</td>\n",
       "      <td>...</td>\n",
       "      <td>0.0</td>\n",
       "      <td>0.0</td>\n",
       "      <td>0.0</td>\n",
       "      <td>0.0</td>\n",
       "      <td>1.0</td>\n",
       "      <td>0.0</td>\n",
       "      <td>1.0</td>\n",
       "      <td>0.0</td>\n",
       "      <td>0.0</td>\n",
       "      <td>0</td>\n",
       "    </tr>\n",
       "    <tr>\n",
       "      <th>4</th>\n",
       "      <td>0.0</td>\n",
       "      <td>0.0</td>\n",
       "      <td>0.0</td>\n",
       "      <td>0.0</td>\n",
       "      <td>0.0</td>\n",
       "      <td>0.0</td>\n",
       "      <td>0.0</td>\n",
       "      <td>0.0</td>\n",
       "      <td>0.0</td>\n",
       "      <td>0.0</td>\n",
       "      <td>...</td>\n",
       "      <td>0.0</td>\n",
       "      <td>0.0</td>\n",
       "      <td>0.0</td>\n",
       "      <td>0.0</td>\n",
       "      <td>1.0</td>\n",
       "      <td>0.0</td>\n",
       "      <td>0.0</td>\n",
       "      <td>1.0</td>\n",
       "      <td>0.0</td>\n",
       "      <td>0</td>\n",
       "    </tr>\n",
       "  </tbody>\n",
       "</table>\n",
       "<p>5 rows × 80 columns</p>\n",
       "</div>"
      ],
      "text/plain": [
       "   service_IRC  service_X11  service_Z39_50  service_auth  service_bgp  \\\n",
       "0          0.0          0.0             0.0           0.0          0.0   \n",
       "1          0.0          0.0             0.0           0.0          0.0   \n",
       "2          0.0          0.0             0.0           0.0          0.0   \n",
       "3          0.0          0.0             0.0           0.0          0.0   \n",
       "4          0.0          0.0             0.0           0.0          0.0   \n",
       "\n",
       "   service_courier  service_csnet_ns  service_ctf  service_daytime  \\\n",
       "0              0.0               0.0          0.0              0.0   \n",
       "1              0.0               0.0          0.0              0.0   \n",
       "2              0.0               0.0          0.0              0.0   \n",
       "3              0.0               0.0          0.0              0.0   \n",
       "4              0.0               0.0          0.0              0.0   \n",
       "\n",
       "   service_discard  ...  flag_S0  flag_S1  flag_S2  flag_S3  flag_SF  flag_SH  \\\n",
       "0              0.0  ...      0.0      0.0      0.0      0.0      1.0      0.0   \n",
       "1              0.0  ...      0.0      0.0      0.0      0.0      1.0      0.0   \n",
       "2              0.0  ...      1.0      0.0      0.0      0.0      0.0      0.0   \n",
       "3              0.0  ...      0.0      0.0      0.0      0.0      1.0      0.0   \n",
       "4              0.0  ...      0.0      0.0      0.0      0.0      1.0      0.0   \n",
       "\n",
       "   protocol_type_icmp  protocol_type_tcp  protocol_type_udp  service_tftp_u  \n",
       "0                 1.0                0.0                0.0               0  \n",
       "1                 1.0                0.0                0.0               0  \n",
       "2                 0.0                1.0                0.0               0  \n",
       "3                 1.0                0.0                0.0               0  \n",
       "4                 0.0                1.0                0.0               0  \n",
       "\n",
       "[5 rows x 80 columns]"
      ]
     },
     "execution_count": 45,
     "metadata": {},
     "output_type": "execute_result"
    }
   ],
   "source": [
    "dfTrainCatFinal.head(5)"
   ]
  },
  {
   "cell_type": "code",
   "execution_count": 46,
   "metadata": {},
   "outputs": [
    {
     "name": "stdout",
     "output_type": "stream",
     "text": [
      "(395216, 119)\n",
      "(98805, 119)\n"
     ]
    }
   ],
   "source": [
    "#joining the train and test dataset with the corresponding categorical\n",
    "dfTrainFinal = getFinalDF(dfTrain, dfTrainCatFinal)\n",
    "dfTestFinal = getFinalDF(dfTest, dfTestCatFinal)"
   ]
  },
  {
   "cell_type": "code",
   "execution_count": 47,
   "metadata": {},
   "outputs": [
    {
     "name": "stdout",
     "output_type": "stream",
     "text": [
      "Original Dataset: (494021, 42) ,Train Dataset: (395216, 42), Test Dataset:(98805, 42)\n"
     ]
    }
   ],
   "source": [
    "#printing the shape of all Datasets\n",
    "print(f'Original Dataset: {df.shape} ,Train Dataset: {dfTrain.shape}, Test Dataset:{dfTest.shape}')"
   ]
  },
  {
   "cell_type": "code",
   "execution_count": 48,
   "metadata": {},
   "outputs": [
    {
     "name": "stdout",
     "output_type": "stream",
     "text": [
      "Original Dataset: (494021, 42) ,Train Dataset Encoded: (395216, 119), Test Dataset Enconded:(98805, 119)\n"
     ]
    }
   ],
   "source": [
    "#printing the shape of all Datasets after adding the new categories\n",
    "print(f'Original Dataset: {df.shape} ,Train Dataset Encoded: {dfTrainFinal.shape}, Test Dataset Enconded:{dfTestFinal.shape}')"
   ]
  },
  {
   "cell_type": "code",
   "execution_count": null,
   "metadata": {},
   "outputs": [],
   "source": []
  },
  {
   "cell_type": "code",
   "execution_count": 49,
   "metadata": {},
   "outputs": [
    {
     "data": {
      "text/html": [
       "<div>\n",
       "<style scoped>\n",
       "    .dataframe tbody tr th:only-of-type {\n",
       "        vertical-align: middle;\n",
       "    }\n",
       "\n",
       "    .dataframe tbody tr th {\n",
       "        vertical-align: top;\n",
       "    }\n",
       "\n",
       "    .dataframe thead th {\n",
       "        text-align: right;\n",
       "    }\n",
       "</style>\n",
       "<table border=\"1\" class=\"dataframe\">\n",
       "  <thead>\n",
       "    <tr style=\"text-align: right;\">\n",
       "      <th></th>\n",
       "      <th>duration</th>\n",
       "      <th>src_bytes</th>\n",
       "      <th>dst_bytes</th>\n",
       "      <th>land</th>\n",
       "      <th>wrong_fragment</th>\n",
       "      <th>urgent</th>\n",
       "      <th>hot</th>\n",
       "      <th>num_failed_logins</th>\n",
       "      <th>logged_in</th>\n",
       "      <th>num_compromised</th>\n",
       "      <th>...</th>\n",
       "      <th>flag_S0</th>\n",
       "      <th>flag_S1</th>\n",
       "      <th>flag_S2</th>\n",
       "      <th>flag_S3</th>\n",
       "      <th>flag_SF</th>\n",
       "      <th>flag_SH</th>\n",
       "      <th>protocol_type_icmp</th>\n",
       "      <th>protocol_type_tcp</th>\n",
       "      <th>protocol_type_udp</th>\n",
       "      <th>service_tftp_u</th>\n",
       "    </tr>\n",
       "  </thead>\n",
       "  <tbody>\n",
       "    <tr>\n",
       "      <th>0</th>\n",
       "      <td>0</td>\n",
       "      <td>1032</td>\n",
       "      <td>0</td>\n",
       "      <td>0</td>\n",
       "      <td>0</td>\n",
       "      <td>0</td>\n",
       "      <td>0</td>\n",
       "      <td>0</td>\n",
       "      <td>0</td>\n",
       "      <td>0</td>\n",
       "      <td>...</td>\n",
       "      <td>0.0</td>\n",
       "      <td>0.0</td>\n",
       "      <td>0.0</td>\n",
       "      <td>0.0</td>\n",
       "      <td>1.0</td>\n",
       "      <td>0.0</td>\n",
       "      <td>1.0</td>\n",
       "      <td>0.0</td>\n",
       "      <td>0.0</td>\n",
       "      <td>0</td>\n",
       "    </tr>\n",
       "    <tr>\n",
       "      <th>1</th>\n",
       "      <td>0</td>\n",
       "      <td>1032</td>\n",
       "      <td>0</td>\n",
       "      <td>0</td>\n",
       "      <td>0</td>\n",
       "      <td>0</td>\n",
       "      <td>0</td>\n",
       "      <td>0</td>\n",
       "      <td>0</td>\n",
       "      <td>0</td>\n",
       "      <td>...</td>\n",
       "      <td>0.0</td>\n",
       "      <td>0.0</td>\n",
       "      <td>0.0</td>\n",
       "      <td>0.0</td>\n",
       "      <td>1.0</td>\n",
       "      <td>0.0</td>\n",
       "      <td>1.0</td>\n",
       "      <td>0.0</td>\n",
       "      <td>0.0</td>\n",
       "      <td>0</td>\n",
       "    </tr>\n",
       "    <tr>\n",
       "      <th>2</th>\n",
       "      <td>0</td>\n",
       "      <td>0</td>\n",
       "      <td>0</td>\n",
       "      <td>0</td>\n",
       "      <td>0</td>\n",
       "      <td>0</td>\n",
       "      <td>0</td>\n",
       "      <td>0</td>\n",
       "      <td>0</td>\n",
       "      <td>0</td>\n",
       "      <td>...</td>\n",
       "      <td>1.0</td>\n",
       "      <td>0.0</td>\n",
       "      <td>0.0</td>\n",
       "      <td>0.0</td>\n",
       "      <td>0.0</td>\n",
       "      <td>0.0</td>\n",
       "      <td>0.0</td>\n",
       "      <td>1.0</td>\n",
       "      <td>0.0</td>\n",
       "      <td>0</td>\n",
       "    </tr>\n",
       "    <tr>\n",
       "      <th>3</th>\n",
       "      <td>0</td>\n",
       "      <td>1032</td>\n",
       "      <td>0</td>\n",
       "      <td>0</td>\n",
       "      <td>0</td>\n",
       "      <td>0</td>\n",
       "      <td>0</td>\n",
       "      <td>0</td>\n",
       "      <td>0</td>\n",
       "      <td>0</td>\n",
       "      <td>...</td>\n",
       "      <td>0.0</td>\n",
       "      <td>0.0</td>\n",
       "      <td>0.0</td>\n",
       "      <td>0.0</td>\n",
       "      <td>1.0</td>\n",
       "      <td>0.0</td>\n",
       "      <td>1.0</td>\n",
       "      <td>0.0</td>\n",
       "      <td>0.0</td>\n",
       "      <td>0</td>\n",
       "    </tr>\n",
       "    <tr>\n",
       "      <th>4</th>\n",
       "      <td>0</td>\n",
       "      <td>224</td>\n",
       "      <td>6482</td>\n",
       "      <td>0</td>\n",
       "      <td>0</td>\n",
       "      <td>0</td>\n",
       "      <td>0</td>\n",
       "      <td>0</td>\n",
       "      <td>1</td>\n",
       "      <td>0</td>\n",
       "      <td>...</td>\n",
       "      <td>0.0</td>\n",
       "      <td>0.0</td>\n",
       "      <td>0.0</td>\n",
       "      <td>0.0</td>\n",
       "      <td>1.0</td>\n",
       "      <td>0.0</td>\n",
       "      <td>0.0</td>\n",
       "      <td>1.0</td>\n",
       "      <td>0.0</td>\n",
       "      <td>0</td>\n",
       "    </tr>\n",
       "  </tbody>\n",
       "</table>\n",
       "<p>5 rows × 119 columns</p>\n",
       "</div>"
      ],
      "text/plain": [
       "   duration  src_bytes  dst_bytes  land  wrong_fragment  urgent  hot  \\\n",
       "0         0       1032          0     0               0       0    0   \n",
       "1         0       1032          0     0               0       0    0   \n",
       "2         0          0          0     0               0       0    0   \n",
       "3         0       1032          0     0               0       0    0   \n",
       "4         0        224       6482     0               0       0    0   \n",
       "\n",
       "   num_failed_logins  logged_in  num_compromised  ...  flag_S0  flag_S1  \\\n",
       "0                  0          0                0  ...      0.0      0.0   \n",
       "1                  0          0                0  ...      0.0      0.0   \n",
       "2                  0          0                0  ...      1.0      0.0   \n",
       "3                  0          0                0  ...      0.0      0.0   \n",
       "4                  0          1                0  ...      0.0      0.0   \n",
       "\n",
       "   flag_S2  flag_S3  flag_SF  flag_SH  protocol_type_icmp  protocol_type_tcp  \\\n",
       "0      0.0      0.0      1.0      0.0                 1.0                0.0   \n",
       "1      0.0      0.0      1.0      0.0                 1.0                0.0   \n",
       "2      0.0      0.0      0.0      0.0                 0.0                1.0   \n",
       "3      0.0      0.0      1.0      0.0                 1.0                0.0   \n",
       "4      0.0      0.0      1.0      0.0                 0.0                1.0   \n",
       "\n",
       "   protocol_type_udp  service_tftp_u  \n",
       "0                0.0               0  \n",
       "1                0.0               0  \n",
       "2                0.0               0  \n",
       "3                0.0               0  \n",
       "4                0.0               0  \n",
       "\n",
       "[5 rows x 119 columns]"
      ]
     },
     "execution_count": 49,
     "metadata": {},
     "output_type": "execute_result"
    }
   ],
   "source": [
    "dfTrainFinal.head()"
   ]
  },
  {
   "cell_type": "code",
   "execution_count": 50,
   "metadata": {},
   "outputs": [],
   "source": [
    "#splitting the data into X and Y for the train dataset\n",
    "X_Train = dfTrainFinal.drop('label',1)\n",
    "Y_Train = dfTrainFinal.label"
   ]
  },
  {
   "cell_type": "code",
   "execution_count": 51,
   "metadata": {},
   "outputs": [],
   "source": [
    "#splitting the data into X and Y for the testing dataset\n",
    "X_Test = dfTestFinal.drop('label',1)\n",
    "Y_Test = dfTestFinal.label"
   ]
  },
  {
   "cell_type": "code",
   "execution_count": 52,
   "metadata": {},
   "outputs": [
    {
     "name": "stdout",
     "output_type": "stream",
     "text": [
      "(395216, 118) (98805, 118)\n",
      "(395216,) (98805,)\n"
     ]
    }
   ],
   "source": [
    "print(X_Train.shape, X_Test.shape)\n",
    "print(Y_Train.shape, Y_Test.shape)"
   ]
  },
  {
   "cell_type": "markdown",
   "metadata": {},
   "source": [
    "### Very important to scale the data"
   ]
  },
  {
   "cell_type": "code",
   "execution_count": 53,
   "metadata": {},
   "outputs": [],
   "source": [
    "#scaling the data\n",
    "X_TrainedScaled=scaleData(X_Train)\n",
    "X_TestScaled=scaleData(X_Test) \n"
   ]
  },
  {
   "cell_type": "markdown",
   "metadata": {},
   "source": [
    "### Creating the first Model with 3 hidden layers"
   ]
  },
  {
   "cell_type": "code",
   "execution_count": 54,
   "metadata": {},
   "outputs": [],
   "source": [
    "#variables for both models epoches and batchsize\n",
    "EPOCHES = 25\n",
    "BS = 20"
   ]
  },
  {
   "cell_type": "code",
   "execution_count": 55,
   "metadata": {},
   "outputs": [],
   "source": [
    "model = KerasClassifier(build_fn=createModel,epochs=EPOCHES,batch_size=BS)"
   ]
  },
  {
   "cell_type": "code",
   "execution_count": 56,
   "metadata": {},
   "outputs": [
    {
     "name": "stdout",
     "output_type": "stream",
     "text": [
      "Epoch 1/25\n",
      "    1/17785 [..............................] - ETA: 0s - loss: 3.2200 - accuracy: 0.0000e+00WARNING:tensorflow:Callbacks method `on_train_batch_end` is slow compared to the batch time (batch time: 0.0000s vs `on_train_batch_end` time: 0.0010s). Check your callbacks.\n",
      "17785/17785 [==============================] - 10s 581us/step - loss: 0.5869 - accuracy: 0.7808 - val_loss: 0.3783 - val_accuracy: 0.7823\n",
      "Epoch 2/25\n",
      "17785/17785 [==============================] - 10s 583us/step - loss: 0.2314 - accuracy: 0.9362 - val_loss: 0.1379 - val_accuracy: 0.9785\n",
      "Epoch 3/25\n",
      "17785/17785 [==============================] - 10s 585us/step - loss: 0.1284 - accuracy: 0.9797 - val_loss: 0.1153 - val_accuracy: 0.9804\n",
      "Epoch 4/25\n",
      "17785/17785 [==============================] - 10s 575us/step - loss: 0.1083 - accuracy: 0.9811 - val_loss: 0.1109 - val_accuracy: 0.9803\n",
      "Epoch 5/25\n",
      "17785/17785 [==============================] - 10s 578us/step - loss: 0.1041 - accuracy: 0.9812 - val_loss: 0.1054 - val_accuracy: 0.9804\n",
      "Epoch 6/25\n",
      "17785/17785 [==============================] - 10s 578us/step - loss: 0.0947 - accuracy: 0.9811 - val_loss: 0.0909 - val_accuracy: 0.9803\n",
      "Epoch 7/25\n",
      "17785/17785 [==============================] - 10s 576us/step - loss: 0.0809 - accuracy: 0.9811 - val_loss: 0.0777 - val_accuracy: 0.9803\n",
      "Epoch 8/25\n",
      "17785/17785 [==============================] - 10s 576us/step - loss: 0.0706 - accuracy: 0.9812 - val_loss: 0.0705 - val_accuracy: 0.9803\n",
      "Epoch 9/25\n",
      "17785/17785 [==============================] - 10s 575us/step - loss: 0.0649 - accuracy: 0.9818 - val_loss: 0.0663 - val_accuracy: 0.9846\n",
      "Epoch 10/25\n",
      "17785/17785 [==============================] - 10s 573us/step - loss: 0.0617 - accuracy: 0.9848 - val_loss: 0.0649 - val_accuracy: 0.9850\n",
      "Epoch 11/25\n",
      "17785/17785 [==============================] - 10s 572us/step - loss: 0.0593 - accuracy: 0.9853 - val_loss: 0.0615 - val_accuracy: 0.9852\n",
      "Epoch 12/25\n",
      "17785/17785 [==============================] - 10s 578us/step - loss: 0.0578 - accuracy: 0.9853 - val_loss: 0.0602 - val_accuracy: 0.9851\n",
      "Epoch 13/25\n",
      "17785/17785 [==============================] - 10s 573us/step - loss: 0.0618 - accuracy: 0.9852 - val_loss: 0.0600 - val_accuracy: 0.9851\n",
      "Epoch 14/25\n",
      "17785/17785 [==============================] - 10s 578us/step - loss: 0.0949 - accuracy: 0.9839 - val_loss: 0.3085 - val_accuracy: 0.9752\n",
      "Epoch 15/25\n",
      "17785/17785 [==============================] - 10s 574us/step - loss: 0.1444 - accuracy: 0.9817 - val_loss: 0.2629 - val_accuracy: 0.9763\n",
      "Epoch 16/25\n",
      "17785/17785 [==============================] - 10s 573us/step - loss: 0.0844 - accuracy: 0.9842 - val_loss: 0.0599 - val_accuracy: 0.9851\n",
      "Epoch 17/25\n",
      "17785/17785 [==============================] - 10s 579us/step - loss: 0.0559 - accuracy: 0.9854 - val_loss: 0.0593 - val_accuracy: 0.9851\n",
      "Epoch 18/25\n",
      "17785/17785 [==============================] - 10s 574us/step - loss: 0.2020 - accuracy: 0.9787 - val_loss: 0.2242 - val_accuracy: 0.9754\n",
      "Epoch 19/25\n",
      "17785/17785 [==============================] - 10s 573us/step - loss: 0.0680 - accuracy: 0.9847 - val_loss: 0.0630 - val_accuracy: 0.9851\n",
      "Epoch 20/25\n",
      "17785/17785 [==============================] - 10s 579us/step - loss: 0.1643 - accuracy: 0.9783 - val_loss: 0.0679 - val_accuracy: 0.9850\n",
      "Epoch 21/25\n",
      "17785/17785 [==============================] - 10s 581us/step - loss: 0.0942 - accuracy: 0.9837 - val_loss: 0.2220 - val_accuracy: 0.9763\n",
      "Epoch 22/25\n",
      "17785/17785 [==============================] - 10s 581us/step - loss: 0.0669 - accuracy: 0.9851 - val_loss: 0.0626 - val_accuracy: 0.9852\n",
      "Epoch 23/25\n",
      "17785/17785 [==============================] - 10s 581us/step - loss: 0.0967 - accuracy: 0.9835 - val_loss: 0.0641 - val_accuracy: 0.9851\n",
      "Epoch 24/25\n",
      "17785/17785 [==============================] - 10s 580us/step - loss: 0.0652 - accuracy: 0.9851 - val_loss: 0.0615 - val_accuracy: 0.9851\n",
      "Epoch 25/25\n",
      "17785/17785 [==============================] - 10s 580us/step - loss: 0.1091 - accuracy: 0.9829 - val_loss: 0.0626 - val_accuracy: 0.9851\n"
     ]
    }
   ],
   "source": [
    "modelHistory= model.fit(X_TrainedScaled, Y_Train.values.ravel(), \n",
    "                        validation_data=(X_TestScaled, Y_Test.values.ravel()),verbose=1, validation_split=0.1)"
   ]
  },
  {
   "cell_type": "code",
   "execution_count": 57,
   "metadata": {},
   "outputs": [
    {
     "data": {
      "image/png": "[encoded data removed]",
      "text/plain": [
       "<Figure size 1152x360 with 1 Axes>"
      ]
     },
     "metadata": {
      "needs_background": "light"
     },
     "output_type": "display_data"
    }
   ],
   "source": [
    "# plot the training/validation loss\n",
    "fig= plt.figure(figsize = [16,5])\n",
    "plt.plot(np.arange(0, EPOCHES), modelHistory.history[\"loss\"], label=\"train_loss\")\n",
    "plt.plot(np.arange(0, EPOCHES), modelHistory.history[\"val_loss\"], label=\"val_loss\")\n",
    "plt.title(\"Loss on Training vs Validation Dataset\", weight=\"bold\")\n",
    "plt.xlabel(\"Epoch #\", weight=\"bold\")\n",
    "plt.ylabel(\"Loss\", weight=\"bold\")\n",
    "plt.legend(loc=\"right\");\n",
    "#plt.xlim(0,20)\n",
    "#plt.ylim(0.00001,0.010)\n",
    "plt.show()"
   ]
  },
  {
   "cell_type": "code",
   "execution_count": 58,
   "metadata": {},
   "outputs": [
    {
     "data": {
      "image/png": "[encoded data removed]",
      "text/plain": [
       "<Figure size 1152x360 with 1 Axes>"
      ]
     },
     "metadata": {
      "needs_background": "light"
     },
     "output_type": "display_data"
    }
   ],
   "source": [
    "# plot the training/validation accuracy\n",
    "fig = plt.figure(figsize = [16,5])\n",
    "plt.plot(np.arange(0, EPOCHES), modelHistory.history[\"accuracy\"], label=\"train_acc\")\n",
    "plt.plot(np.arange(0, EPOCHES), modelHistory.history[\"val_accuracy\"], label=\"val_acc\")\n",
    "plt.title(\"Accuracy on Training vs Validation Dataset\", weight=\"bold\")\n",
    "plt.xlabel(\"Epoch #\", weight=\"bold\")\n",
    "plt.ylabel(\"Accuracy\", weight=\"bold\")\n",
    "plt.legend(loc=\"right\");\n",
    "#plt.xlim(0,20)\n",
    "#plt.ylim(0.99900,1)\n",
    "plt.show()"
   ]
  },
  {
   "cell_type": "markdown",
   "metadata": {},
   "source": [
    "### Creating the second Model with 5 Hidden Layers"
   ]
  },
  {
   "cell_type": "code",
   "execution_count": 59,
   "metadata": {},
   "outputs": [],
   "source": [
    "model2 = KerasClassifier(build_fn=createModel2,epochs=EPOCHES,batch_size=BS)"
   ]
  },
  {
   "cell_type": "code",
   "execution_count": 60,
   "metadata": {},
   "outputs": [
    {
     "name": "stdout",
     "output_type": "stream",
     "text": [
      "Epoch 1/25\n",
      "17785/17785 [==============================] - 12s 677us/step - loss: 0.6767 - accuracy: 0.7286 - val_loss: 0.2758 - val_accuracy: 0.9809\n",
      "Epoch 2/25\n",
      "17785/17785 [==============================] - 12s 654us/step - loss: 0.1467 - accuracy: 0.9821 - val_loss: 0.1063 - val_accuracy: 0.9814\n",
      "Epoch 3/25\n",
      "17785/17785 [==============================] - 12s 653us/step - loss: 0.0873 - accuracy: 0.9822 - val_loss: 0.0768 - val_accuracy: 0.9814\n",
      "Epoch 4/25\n",
      "17785/17785 [==============================] - 12s 648us/step - loss: 0.0647 - accuracy: 0.9823 - val_loss: 0.0612 - val_accuracy: 0.9812\n",
      "Epoch 5/25\n",
      "17785/17785 [==============================] - 12s 652us/step - loss: 0.0526 - accuracy: 0.9842 - val_loss: 0.0512 - val_accuracy: 0.9862\n",
      "Epoch 6/25\n",
      "17785/17785 [==============================] - 12s 661us/step - loss: 0.0468 - accuracy: 0.9865 - val_loss: 0.0484 - val_accuracy: 0.9860\n",
      "Epoch 7/25\n",
      "17785/17785 [==============================] - 12s 651us/step - loss: 0.0444 - accuracy: 0.9864 - val_loss: 0.0457 - val_accuracy: 0.9861\n",
      "Epoch 8/25\n",
      "17785/17785 [==============================] - 12s 652us/step - loss: 0.0427 - accuracy: 0.9865 - val_loss: 0.0445 - val_accuracy: 0.9862\n",
      "Epoch 9/25\n",
      "17785/17785 [==============================] - 12s 653us/step - loss: 0.0415 - accuracy: 0.9865 - val_loss: 0.0442 - val_accuracy: 0.9862\n",
      "Epoch 10/25\n",
      "17785/17785 [==============================] - 12s 654us/step - loss: 0.0412 - accuracy: 0.9864 - val_loss: 0.0433 - val_accuracy: 0.9860\n",
      "Epoch 11/25\n",
      "17785/17785 [==============================] - 12s 658us/step - loss: 0.0402 - accuracy: 0.9865 - val_loss: 0.0419 - val_accuracy: 0.9861\n",
      "Epoch 12/25\n",
      "17785/17785 [==============================] - 12s 657us/step - loss: 0.0397 - accuracy: 0.9866 - val_loss: 0.0427 - val_accuracy: 0.9891\n",
      "Epoch 13/25\n",
      "17785/17785 [==============================] - 12s 655us/step - loss: 0.0392 - accuracy: 0.9879 - val_loss: 0.0421 - val_accuracy: 0.9877\n",
      "Epoch 14/25\n",
      "17785/17785 [==============================] - 12s 657us/step - loss: 0.0383 - accuracy: 0.9881 - val_loss: 0.0403 - val_accuracy: 0.9863\n",
      "Epoch 15/25\n",
      "17785/17785 [==============================] - 12s 657us/step - loss: 0.0372 - accuracy: 0.9887 - val_loss: 0.0390 - val_accuracy: 0.9890\n",
      "Epoch 16/25\n",
      "17785/17785 [==============================] - 12s 655us/step - loss: 0.0363 - accuracy: 0.9888 - val_loss: 0.0376 - val_accuracy: 0.9892\n",
      "Epoch 17/25\n",
      "17785/17785 [==============================] - 12s 655us/step - loss: 0.0359 - accuracy: 0.9889 - val_loss: 0.0384 - val_accuracy: 0.9890\n",
      "Epoch 18/25\n",
      "17785/17785 [==============================] - 12s 658us/step - loss: 0.0351 - accuracy: 0.9889 - val_loss: 0.0363 - val_accuracy: 0.9890\n",
      "Epoch 19/25\n",
      "17785/17785 [==============================] - 12s 653us/step - loss: 0.0345 - accuracy: 0.9889 - val_loss: 0.0374 - val_accuracy: 0.9888\n",
      "Epoch 20/25\n",
      "17785/17785 [==============================] - 12s 655us/step - loss: 0.0341 - accuracy: 0.9890 - val_loss: 0.0351 - val_accuracy: 0.9890\n",
      "Epoch 21/25\n",
      "17785/17785 [==============================] - 12s 658us/step - loss: 0.0334 - accuracy: 0.9891 - val_loss: 0.0352 - val_accuracy: 0.9890\n",
      "Epoch 22/25\n",
      "17785/17785 [==============================] - 12s 664us/step - loss: 0.0330 - accuracy: 0.9895 - val_loss: 0.0342 - val_accuracy: 0.9895\n",
      "Epoch 23/25\n",
      "17785/17785 [==============================] - 12s 656us/step - loss: 0.0322 - accuracy: 0.9904 - val_loss: 0.0335 - val_accuracy: 0.9894\n",
      "Epoch 24/25\n",
      "17785/17785 [==============================] - 12s 656us/step - loss: 0.0319 - accuracy: 0.9909 - val_loss: 0.0336 - val_accuracy: 0.9891\n",
      "Epoch 25/25\n",
      "17785/17785 [==============================] - 12s 660us/step - loss: 0.0317 - accuracy: 0.9914 - val_loss: 0.0336 - val_accuracy: 0.9920\n"
     ]
    }
   ],
   "source": [
    "modelHistory2= model2.fit(X_TrainedScaled, Y_Train.values.ravel(), \n",
    "                          validation_data=(X_TestScaled, Y_Test.values.ravel()),verbose=1, validation_split=0.1)"
   ]
  },
  {
   "cell_type": "code",
   "execution_count": 61,
   "metadata": {},
   "outputs": [
    {
     "data": {
      "image/png": "[encoded data removed]",
      "text/plain": [
       "<Figure size 1152x360 with 1 Axes>"
      ]
     },
     "metadata": {
      "needs_background": "light"
     },
     "output_type": "display_data"
    }
   ],
   "source": [
    "# plot the training/validation loss\n",
    "fig= plt.figure(figsize = [16,5])\n",
    "plt.plot(np.arange(0, EPOCHES), modelHistory2.history[\"loss\"], label=\"train_loss\")\n",
    "plt.plot(np.arange(0, EPOCHES), modelHistory2.history[\"val_loss\"], label=\"val_loss\")\n",
    "plt.title(\"Loss on Training vs Validation Dataset\", weight=\"bold\")\n",
    "plt.xlabel(\"Epoch #\", weight=\"bold\")\n",
    "plt.ylabel(\"Loss\", weight=\"bold\")\n",
    "plt.legend(loc=\"right\");\n",
    "#plt.xlim(0,20)\n",
    "#plt.ylim(0.00001,0.010)\n",
    "plt.show()"
   ]
  },
  {
   "cell_type": "code",
   "execution_count": 62,
   "metadata": {},
   "outputs": [
    {
     "data": {
      "image/png": "[encoded data removed]",
      "text/plain": [
       "<Figure size 1152x360 with 1 Axes>"
      ]
     },
     "metadata": {
      "needs_background": "light"
     },
     "output_type": "display_data"
    }
   ],
   "source": [
    "# plot the training/validation accuracy\n",
    "fig = plt.figure(figsize = [16,5])\n",
    "plt.plot(np.arange(0, EPOCHES), modelHistory2.history[\"accuracy\"], label=\"train_acc\")\n",
    "plt.plot(np.arange(0, EPOCHES), modelHistory2.history[\"val_accuracy\"], label=\"val_acc\")\n",
    "plt.title(\"Accuracy on Training vs Validation Dataset\", weight=\"bold\")\n",
    "plt.xlabel(\"Epoch #\", weight=\"bold\")\n",
    "plt.ylabel(\"Accuracy\", weight=\"bold\")\n",
    "plt.legend(loc=\"right\");\n",
    "#plt.xlim(0,20)\n",
    "#plt.ylim(0.99900,1)\n",
    "plt.show()"
   ]
  },
  {
   "cell_type": "code",
   "execution_count": null,
   "metadata": {},
   "outputs": [],
   "source": []
  },
  {
   "cell_type": "code",
   "execution_count": null,
   "metadata": {},
   "outputs": [],
   "source": []
  },
  {
   "cell_type": "code",
   "execution_count": null,
   "metadata": {},
   "outputs": [],
   "source": []
  }
 ],
 "metadata": {
  "kernelspec": {
   "display_name": "Python 3",
   "language": "python",
   "name": "python3"
  },
  "language_info": {
   "codemirror_mode": {
    "name": "ipython",
    "version": 3
   },
   "file_extension": ".py",
   "mimetype": "text/x-python",
   "name": "python",
   "nbconvert_exporter": "python",
   "pygments_lexer": "ipython3",
   "version": "3.7.6"
  }
 },
 "nbformat": 4,
 "nbformat_minor": 4
}
